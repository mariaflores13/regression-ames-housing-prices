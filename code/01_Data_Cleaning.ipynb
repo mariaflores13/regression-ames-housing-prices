{
 "cells": [
  {
   "cell_type": "markdown",
   "metadata": {},
   "source": [
    "## Data Cleaning"
   ]
  },
  {
   "cell_type": "markdown",
   "metadata": {},
   "source": [
    "Import neceessary libraries."
   ]
  },
  {
   "cell_type": "code",
   "execution_count": 69,
   "metadata": {},
   "outputs": [],
   "source": [
    "import pandas as pd \n",
    "import numpy as np\n",
    "import seaborn as sns\n",
    "import matplotlib.pyplot as plt\n",
    "import pickle\n",
    "\n",
    "sns.set_style(style = 'whitegrid')\n",
    "%config InlineBackend.figure_format = 'retina'\n",
    "%matplotlib inline"
   ]
  },
  {
   "cell_type": "markdown",
   "metadata": {},
   "source": [
    "Reads in train data from `datasets` folder."
   ]
  },
  {
   "cell_type": "code",
   "execution_count": 70,
   "metadata": {},
   "outputs": [],
   "source": [
    "train = pd.read_csv('../datasets/train.csv')"
   ]
  },
  {
   "cell_type": "markdown",
   "metadata": {},
   "source": [
    "Rename all columns to be in snake case."
   ]
  },
  {
   "cell_type": "code",
   "execution_count": 71,
   "metadata": {},
   "outputs": [],
   "source": [
    "train.columns = train.columns.str.lower()\n",
    "train.columns = train.columns.str.replace(' ', '_')"
   ]
  },
  {
   "cell_type": "markdown",
   "metadata": {},
   "source": [
    "Check if there are `NaN` values and sort them in descending order."
   ]
  },
  {
   "cell_type": "code",
   "execution_count": 72,
   "metadata": {
    "scrolled": true
   },
   "outputs": [
    {
     "data": {
      "text/plain": [
       "pool_qc           2042\n",
       "misc_feature      1986\n",
       "alley             1911\n",
       "fence             1651\n",
       "fireplace_qu      1000\n",
       "lot_frontage       330\n",
       "garage_finish      114\n",
       "garage_cond        114\n",
       "garage_qual        114\n",
       "garage_yr_blt      114\n",
       "garage_type        113\n",
       "bsmt_exposure       58\n",
       "bsmtfin_type_2      56\n",
       "bsmtfin_type_1      55\n",
       "bsmt_cond           55\n",
       "bsmt_qual           55\n",
       "mas_vnr_type        22\n",
       "mas_vnr_area        22\n",
       "bsmt_half_bath       2\n",
       "bsmt_full_bath       2\n",
       "garage_cars          1\n",
       "garage_area          1\n",
       "bsmt_unf_sf          1\n",
       "bsmtfin_sf_2         1\n",
       "total_bsmt_sf        1\n",
       "bsmtfin_sf_1         1\n",
       "overall_cond         0\n",
       "exterior_2nd         0\n",
       "exterior_1st         0\n",
       "roof_matl            0\n",
       "dtype: int64"
      ]
     },
     "execution_count": 72,
     "metadata": {},
     "output_type": "execute_result"
    }
   ],
   "source": [
    "train.isnull().sum().sort_values(ascending = False).head(30)"
   ]
  },
  {
   "cell_type": "markdown",
   "metadata": {},
   "source": [
    "Check the statistics summary for all of the numerical columns."
   ]
  },
  {
   "cell_type": "code",
   "execution_count": 73,
   "metadata": {
    "scrolled": true
   },
   "outputs": [
    {
     "data": {
      "text/html": [
       "<div>\n",
       "<style scoped>\n",
       "    .dataframe tbody tr th:only-of-type {\n",
       "        vertical-align: middle;\n",
       "    }\n",
       "\n",
       "    .dataframe tbody tr th {\n",
       "        vertical-align: top;\n",
       "    }\n",
       "\n",
       "    .dataframe thead th {\n",
       "        text-align: right;\n",
       "    }\n",
       "</style>\n",
       "<table border=\"1\" class=\"dataframe\">\n",
       "  <thead>\n",
       "    <tr style=\"text-align: right;\">\n",
       "      <th></th>\n",
       "      <th>count</th>\n",
       "      <th>mean</th>\n",
       "      <th>std</th>\n",
       "      <th>min</th>\n",
       "      <th>25%</th>\n",
       "      <th>50%</th>\n",
       "      <th>75%</th>\n",
       "      <th>max</th>\n",
       "    </tr>\n",
       "  </thead>\n",
       "  <tbody>\n",
       "    <tr>\n",
       "      <td>id</td>\n",
       "      <td>2051.0</td>\n",
       "      <td>1.474034e+03</td>\n",
       "      <td>8.439808e+02</td>\n",
       "      <td>1.0</td>\n",
       "      <td>753.5</td>\n",
       "      <td>1486.0</td>\n",
       "      <td>2.198000e+03</td>\n",
       "      <td>2930.0</td>\n",
       "    </tr>\n",
       "    <tr>\n",
       "      <td>pid</td>\n",
       "      <td>2051.0</td>\n",
       "      <td>7.135900e+08</td>\n",
       "      <td>1.886918e+08</td>\n",
       "      <td>526301100.0</td>\n",
       "      <td>528458140.0</td>\n",
       "      <td>535453200.0</td>\n",
       "      <td>9.071801e+08</td>\n",
       "      <td>924152030.0</td>\n",
       "    </tr>\n",
       "    <tr>\n",
       "      <td>ms_subclass</td>\n",
       "      <td>2051.0</td>\n",
       "      <td>5.700878e+01</td>\n",
       "      <td>4.282422e+01</td>\n",
       "      <td>20.0</td>\n",
       "      <td>20.0</td>\n",
       "      <td>50.0</td>\n",
       "      <td>7.000000e+01</td>\n",
       "      <td>190.0</td>\n",
       "    </tr>\n",
       "    <tr>\n",
       "      <td>lot_frontage</td>\n",
       "      <td>1721.0</td>\n",
       "      <td>6.905520e+01</td>\n",
       "      <td>2.326065e+01</td>\n",
       "      <td>21.0</td>\n",
       "      <td>58.0</td>\n",
       "      <td>68.0</td>\n",
       "      <td>8.000000e+01</td>\n",
       "      <td>313.0</td>\n",
       "    </tr>\n",
       "    <tr>\n",
       "      <td>lot_area</td>\n",
       "      <td>2051.0</td>\n",
       "      <td>1.006521e+04</td>\n",
       "      <td>6.742489e+03</td>\n",
       "      <td>1300.0</td>\n",
       "      <td>7500.0</td>\n",
       "      <td>9430.0</td>\n",
       "      <td>1.151350e+04</td>\n",
       "      <td>159000.0</td>\n",
       "    </tr>\n",
       "    <tr>\n",
       "      <td>overall_qual</td>\n",
       "      <td>2051.0</td>\n",
       "      <td>6.112140e+00</td>\n",
       "      <td>1.426271e+00</td>\n",
       "      <td>1.0</td>\n",
       "      <td>5.0</td>\n",
       "      <td>6.0</td>\n",
       "      <td>7.000000e+00</td>\n",
       "      <td>10.0</td>\n",
       "    </tr>\n",
       "    <tr>\n",
       "      <td>overall_cond</td>\n",
       "      <td>2051.0</td>\n",
       "      <td>5.562165e+00</td>\n",
       "      <td>1.104497e+00</td>\n",
       "      <td>1.0</td>\n",
       "      <td>5.0</td>\n",
       "      <td>5.0</td>\n",
       "      <td>6.000000e+00</td>\n",
       "      <td>9.0</td>\n",
       "    </tr>\n",
       "    <tr>\n",
       "      <td>year_built</td>\n",
       "      <td>2051.0</td>\n",
       "      <td>1.971709e+03</td>\n",
       "      <td>3.017789e+01</td>\n",
       "      <td>1872.0</td>\n",
       "      <td>1953.5</td>\n",
       "      <td>1974.0</td>\n",
       "      <td>2.001000e+03</td>\n",
       "      <td>2010.0</td>\n",
       "    </tr>\n",
       "    <tr>\n",
       "      <td>year_remod/add</td>\n",
       "      <td>2051.0</td>\n",
       "      <td>1.984190e+03</td>\n",
       "      <td>2.103625e+01</td>\n",
       "      <td>1950.0</td>\n",
       "      <td>1964.5</td>\n",
       "      <td>1993.0</td>\n",
       "      <td>2.004000e+03</td>\n",
       "      <td>2010.0</td>\n",
       "    </tr>\n",
       "    <tr>\n",
       "      <td>mas_vnr_area</td>\n",
       "      <td>2029.0</td>\n",
       "      <td>9.969591e+01</td>\n",
       "      <td>1.749631e+02</td>\n",
       "      <td>0.0</td>\n",
       "      <td>0.0</td>\n",
       "      <td>0.0</td>\n",
       "      <td>1.610000e+02</td>\n",
       "      <td>1600.0</td>\n",
       "    </tr>\n",
       "    <tr>\n",
       "      <td>bsmtfin_sf_1</td>\n",
       "      <td>2050.0</td>\n",
       "      <td>4.423005e+02</td>\n",
       "      <td>4.612041e+02</td>\n",
       "      <td>0.0</td>\n",
       "      <td>0.0</td>\n",
       "      <td>368.0</td>\n",
       "      <td>7.337500e+02</td>\n",
       "      <td>5644.0</td>\n",
       "    </tr>\n",
       "    <tr>\n",
       "      <td>bsmtfin_sf_2</td>\n",
       "      <td>2050.0</td>\n",
       "      <td>4.795902e+01</td>\n",
       "      <td>1.650009e+02</td>\n",
       "      <td>0.0</td>\n",
       "      <td>0.0</td>\n",
       "      <td>0.0</td>\n",
       "      <td>0.000000e+00</td>\n",
       "      <td>1474.0</td>\n",
       "    </tr>\n",
       "    <tr>\n",
       "      <td>bsmt_unf_sf</td>\n",
       "      <td>2050.0</td>\n",
       "      <td>5.677283e+02</td>\n",
       "      <td>4.449548e+02</td>\n",
       "      <td>0.0</td>\n",
       "      <td>220.0</td>\n",
       "      <td>474.5</td>\n",
       "      <td>8.110000e+02</td>\n",
       "      <td>2336.0</td>\n",
       "    </tr>\n",
       "    <tr>\n",
       "      <td>total_bsmt_sf</td>\n",
       "      <td>2050.0</td>\n",
       "      <td>1.057988e+03</td>\n",
       "      <td>4.494107e+02</td>\n",
       "      <td>0.0</td>\n",
       "      <td>793.0</td>\n",
       "      <td>994.5</td>\n",
       "      <td>1.318750e+03</td>\n",
       "      <td>6110.0</td>\n",
       "    </tr>\n",
       "    <tr>\n",
       "      <td>1st_flr_sf</td>\n",
       "      <td>2051.0</td>\n",
       "      <td>1.164488e+03</td>\n",
       "      <td>3.964469e+02</td>\n",
       "      <td>334.0</td>\n",
       "      <td>879.5</td>\n",
       "      <td>1093.0</td>\n",
       "      <td>1.405000e+03</td>\n",
       "      <td>5095.0</td>\n",
       "    </tr>\n",
       "    <tr>\n",
       "      <td>2nd_flr_sf</td>\n",
       "      <td>2051.0</td>\n",
       "      <td>3.293291e+02</td>\n",
       "      <td>4.256710e+02</td>\n",
       "      <td>0.0</td>\n",
       "      <td>0.0</td>\n",
       "      <td>0.0</td>\n",
       "      <td>6.925000e+02</td>\n",
       "      <td>1862.0</td>\n",
       "    </tr>\n",
       "    <tr>\n",
       "      <td>low_qual_fin_sf</td>\n",
       "      <td>2051.0</td>\n",
       "      <td>5.512921e+00</td>\n",
       "      <td>5.106887e+01</td>\n",
       "      <td>0.0</td>\n",
       "      <td>0.0</td>\n",
       "      <td>0.0</td>\n",
       "      <td>0.000000e+00</td>\n",
       "      <td>1064.0</td>\n",
       "    </tr>\n",
       "    <tr>\n",
       "      <td>gr_liv_area</td>\n",
       "      <td>2051.0</td>\n",
       "      <td>1.499330e+03</td>\n",
       "      <td>5.004478e+02</td>\n",
       "      <td>334.0</td>\n",
       "      <td>1129.0</td>\n",
       "      <td>1444.0</td>\n",
       "      <td>1.728500e+03</td>\n",
       "      <td>5642.0</td>\n",
       "    </tr>\n",
       "    <tr>\n",
       "      <td>bsmt_full_bath</td>\n",
       "      <td>2049.0</td>\n",
       "      <td>4.275256e-01</td>\n",
       "      <td>5.226732e-01</td>\n",
       "      <td>0.0</td>\n",
       "      <td>0.0</td>\n",
       "      <td>0.0</td>\n",
       "      <td>1.000000e+00</td>\n",
       "      <td>3.0</td>\n",
       "    </tr>\n",
       "    <tr>\n",
       "      <td>bsmt_half_bath</td>\n",
       "      <td>2049.0</td>\n",
       "      <td>6.344558e-02</td>\n",
       "      <td>2.517052e-01</td>\n",
       "      <td>0.0</td>\n",
       "      <td>0.0</td>\n",
       "      <td>0.0</td>\n",
       "      <td>0.000000e+00</td>\n",
       "      <td>2.0</td>\n",
       "    </tr>\n",
       "    <tr>\n",
       "      <td>full_bath</td>\n",
       "      <td>2051.0</td>\n",
       "      <td>1.577279e+00</td>\n",
       "      <td>5.492794e-01</td>\n",
       "      <td>0.0</td>\n",
       "      <td>1.0</td>\n",
       "      <td>2.0</td>\n",
       "      <td>2.000000e+00</td>\n",
       "      <td>4.0</td>\n",
       "    </tr>\n",
       "    <tr>\n",
       "      <td>half_bath</td>\n",
       "      <td>2051.0</td>\n",
       "      <td>3.710385e-01</td>\n",
       "      <td>5.010427e-01</td>\n",
       "      <td>0.0</td>\n",
       "      <td>0.0</td>\n",
       "      <td>0.0</td>\n",
       "      <td>1.000000e+00</td>\n",
       "      <td>2.0</td>\n",
       "    </tr>\n",
       "    <tr>\n",
       "      <td>bedroom_abvgr</td>\n",
       "      <td>2051.0</td>\n",
       "      <td>2.843491e+00</td>\n",
       "      <td>8.266183e-01</td>\n",
       "      <td>0.0</td>\n",
       "      <td>2.0</td>\n",
       "      <td>3.0</td>\n",
       "      <td>3.000000e+00</td>\n",
       "      <td>8.0</td>\n",
       "    </tr>\n",
       "    <tr>\n",
       "      <td>kitchen_abvgr</td>\n",
       "      <td>2051.0</td>\n",
       "      <td>1.042906e+00</td>\n",
       "      <td>2.097900e-01</td>\n",
       "      <td>0.0</td>\n",
       "      <td>1.0</td>\n",
       "      <td>1.0</td>\n",
       "      <td>1.000000e+00</td>\n",
       "      <td>3.0</td>\n",
       "    </tr>\n",
       "    <tr>\n",
       "      <td>totrms_abvgrd</td>\n",
       "      <td>2051.0</td>\n",
       "      <td>6.435885e+00</td>\n",
       "      <td>1.560225e+00</td>\n",
       "      <td>2.0</td>\n",
       "      <td>5.0</td>\n",
       "      <td>6.0</td>\n",
       "      <td>7.000000e+00</td>\n",
       "      <td>15.0</td>\n",
       "    </tr>\n",
       "    <tr>\n",
       "      <td>fireplaces</td>\n",
       "      <td>2051.0</td>\n",
       "      <td>5.909313e-01</td>\n",
       "      <td>6.385163e-01</td>\n",
       "      <td>0.0</td>\n",
       "      <td>0.0</td>\n",
       "      <td>1.0</td>\n",
       "      <td>1.000000e+00</td>\n",
       "      <td>4.0</td>\n",
       "    </tr>\n",
       "    <tr>\n",
       "      <td>garage_yr_blt</td>\n",
       "      <td>1937.0</td>\n",
       "      <td>1.978708e+03</td>\n",
       "      <td>2.544109e+01</td>\n",
       "      <td>1895.0</td>\n",
       "      <td>1961.0</td>\n",
       "      <td>1980.0</td>\n",
       "      <td>2.002000e+03</td>\n",
       "      <td>2207.0</td>\n",
       "    </tr>\n",
       "    <tr>\n",
       "      <td>garage_cars</td>\n",
       "      <td>2050.0</td>\n",
       "      <td>1.776585e+00</td>\n",
       "      <td>7.645374e-01</td>\n",
       "      <td>0.0</td>\n",
       "      <td>1.0</td>\n",
       "      <td>2.0</td>\n",
       "      <td>2.000000e+00</td>\n",
       "      <td>5.0</td>\n",
       "    </tr>\n",
       "    <tr>\n",
       "      <td>garage_area</td>\n",
       "      <td>2050.0</td>\n",
       "      <td>4.736717e+02</td>\n",
       "      <td>2.159346e+02</td>\n",
       "      <td>0.0</td>\n",
       "      <td>319.0</td>\n",
       "      <td>480.0</td>\n",
       "      <td>5.760000e+02</td>\n",
       "      <td>1418.0</td>\n",
       "    </tr>\n",
       "    <tr>\n",
       "      <td>wood_deck_sf</td>\n",
       "      <td>2051.0</td>\n",
       "      <td>9.383374e+01</td>\n",
       "      <td>1.285494e+02</td>\n",
       "      <td>0.0</td>\n",
       "      <td>0.0</td>\n",
       "      <td>0.0</td>\n",
       "      <td>1.680000e+02</td>\n",
       "      <td>1424.0</td>\n",
       "    </tr>\n",
       "    <tr>\n",
       "      <td>open_porch_sf</td>\n",
       "      <td>2051.0</td>\n",
       "      <td>4.755680e+01</td>\n",
       "      <td>6.674724e+01</td>\n",
       "      <td>0.0</td>\n",
       "      <td>0.0</td>\n",
       "      <td>27.0</td>\n",
       "      <td>7.000000e+01</td>\n",
       "      <td>547.0</td>\n",
       "    </tr>\n",
       "    <tr>\n",
       "      <td>enclosed_porch</td>\n",
       "      <td>2051.0</td>\n",
       "      <td>2.257192e+01</td>\n",
       "      <td>5.984511e+01</td>\n",
       "      <td>0.0</td>\n",
       "      <td>0.0</td>\n",
       "      <td>0.0</td>\n",
       "      <td>0.000000e+00</td>\n",
       "      <td>432.0</td>\n",
       "    </tr>\n",
       "    <tr>\n",
       "      <td>3ssn_porch</td>\n",
       "      <td>2051.0</td>\n",
       "      <td>2.591419e+00</td>\n",
       "      <td>2.522961e+01</td>\n",
       "      <td>0.0</td>\n",
       "      <td>0.0</td>\n",
       "      <td>0.0</td>\n",
       "      <td>0.000000e+00</td>\n",
       "      <td>508.0</td>\n",
       "    </tr>\n",
       "    <tr>\n",
       "      <td>screen_porch</td>\n",
       "      <td>2051.0</td>\n",
       "      <td>1.651146e+01</td>\n",
       "      <td>5.737420e+01</td>\n",
       "      <td>0.0</td>\n",
       "      <td>0.0</td>\n",
       "      <td>0.0</td>\n",
       "      <td>0.000000e+00</td>\n",
       "      <td>490.0</td>\n",
       "    </tr>\n",
       "    <tr>\n",
       "      <td>pool_area</td>\n",
       "      <td>2051.0</td>\n",
       "      <td>2.397855e+00</td>\n",
       "      <td>3.778257e+01</td>\n",
       "      <td>0.0</td>\n",
       "      <td>0.0</td>\n",
       "      <td>0.0</td>\n",
       "      <td>0.000000e+00</td>\n",
       "      <td>800.0</td>\n",
       "    </tr>\n",
       "    <tr>\n",
       "      <td>misc_val</td>\n",
       "      <td>2051.0</td>\n",
       "      <td>5.157435e+01</td>\n",
       "      <td>5.733940e+02</td>\n",
       "      <td>0.0</td>\n",
       "      <td>0.0</td>\n",
       "      <td>0.0</td>\n",
       "      <td>0.000000e+00</td>\n",
       "      <td>17000.0</td>\n",
       "    </tr>\n",
       "    <tr>\n",
       "      <td>mo_sold</td>\n",
       "      <td>2051.0</td>\n",
       "      <td>6.219893e+00</td>\n",
       "      <td>2.744736e+00</td>\n",
       "      <td>1.0</td>\n",
       "      <td>4.0</td>\n",
       "      <td>6.0</td>\n",
       "      <td>8.000000e+00</td>\n",
       "      <td>12.0</td>\n",
       "    </tr>\n",
       "    <tr>\n",
       "      <td>yr_sold</td>\n",
       "      <td>2051.0</td>\n",
       "      <td>2.007776e+03</td>\n",
       "      <td>1.312014e+00</td>\n",
       "      <td>2006.0</td>\n",
       "      <td>2007.0</td>\n",
       "      <td>2008.0</td>\n",
       "      <td>2.009000e+03</td>\n",
       "      <td>2010.0</td>\n",
       "    </tr>\n",
       "    <tr>\n",
       "      <td>saleprice</td>\n",
       "      <td>2051.0</td>\n",
       "      <td>1.814697e+05</td>\n",
       "      <td>7.925866e+04</td>\n",
       "      <td>12789.0</td>\n",
       "      <td>129825.0</td>\n",
       "      <td>162500.0</td>\n",
       "      <td>2.140000e+05</td>\n",
       "      <td>611657.0</td>\n",
       "    </tr>\n",
       "  </tbody>\n",
       "</table>\n",
       "</div>"
      ],
      "text/plain": [
       "                  count          mean           std          min          25%  \\\n",
       "id               2051.0  1.474034e+03  8.439808e+02          1.0        753.5   \n",
       "pid              2051.0  7.135900e+08  1.886918e+08  526301100.0  528458140.0   \n",
       "ms_subclass      2051.0  5.700878e+01  4.282422e+01         20.0         20.0   \n",
       "lot_frontage     1721.0  6.905520e+01  2.326065e+01         21.0         58.0   \n",
       "lot_area         2051.0  1.006521e+04  6.742489e+03       1300.0       7500.0   \n",
       "overall_qual     2051.0  6.112140e+00  1.426271e+00          1.0          5.0   \n",
       "overall_cond     2051.0  5.562165e+00  1.104497e+00          1.0          5.0   \n",
       "year_built       2051.0  1.971709e+03  3.017789e+01       1872.0       1953.5   \n",
       "year_remod/add   2051.0  1.984190e+03  2.103625e+01       1950.0       1964.5   \n",
       "mas_vnr_area     2029.0  9.969591e+01  1.749631e+02          0.0          0.0   \n",
       "bsmtfin_sf_1     2050.0  4.423005e+02  4.612041e+02          0.0          0.0   \n",
       "bsmtfin_sf_2     2050.0  4.795902e+01  1.650009e+02          0.0          0.0   \n",
       "bsmt_unf_sf      2050.0  5.677283e+02  4.449548e+02          0.0        220.0   \n",
       "total_bsmt_sf    2050.0  1.057988e+03  4.494107e+02          0.0        793.0   \n",
       "1st_flr_sf       2051.0  1.164488e+03  3.964469e+02        334.0        879.5   \n",
       "2nd_flr_sf       2051.0  3.293291e+02  4.256710e+02          0.0          0.0   \n",
       "low_qual_fin_sf  2051.0  5.512921e+00  5.106887e+01          0.0          0.0   \n",
       "gr_liv_area      2051.0  1.499330e+03  5.004478e+02        334.0       1129.0   \n",
       "bsmt_full_bath   2049.0  4.275256e-01  5.226732e-01          0.0          0.0   \n",
       "bsmt_half_bath   2049.0  6.344558e-02  2.517052e-01          0.0          0.0   \n",
       "full_bath        2051.0  1.577279e+00  5.492794e-01          0.0          1.0   \n",
       "half_bath        2051.0  3.710385e-01  5.010427e-01          0.0          0.0   \n",
       "bedroom_abvgr    2051.0  2.843491e+00  8.266183e-01          0.0          2.0   \n",
       "kitchen_abvgr    2051.0  1.042906e+00  2.097900e-01          0.0          1.0   \n",
       "totrms_abvgrd    2051.0  6.435885e+00  1.560225e+00          2.0          5.0   \n",
       "fireplaces       2051.0  5.909313e-01  6.385163e-01          0.0          0.0   \n",
       "garage_yr_blt    1937.0  1.978708e+03  2.544109e+01       1895.0       1961.0   \n",
       "garage_cars      2050.0  1.776585e+00  7.645374e-01          0.0          1.0   \n",
       "garage_area      2050.0  4.736717e+02  2.159346e+02          0.0        319.0   \n",
       "wood_deck_sf     2051.0  9.383374e+01  1.285494e+02          0.0          0.0   \n",
       "open_porch_sf    2051.0  4.755680e+01  6.674724e+01          0.0          0.0   \n",
       "enclosed_porch   2051.0  2.257192e+01  5.984511e+01          0.0          0.0   \n",
       "3ssn_porch       2051.0  2.591419e+00  2.522961e+01          0.0          0.0   \n",
       "screen_porch     2051.0  1.651146e+01  5.737420e+01          0.0          0.0   \n",
       "pool_area        2051.0  2.397855e+00  3.778257e+01          0.0          0.0   \n",
       "misc_val         2051.0  5.157435e+01  5.733940e+02          0.0          0.0   \n",
       "mo_sold          2051.0  6.219893e+00  2.744736e+00          1.0          4.0   \n",
       "yr_sold          2051.0  2.007776e+03  1.312014e+00       2006.0       2007.0   \n",
       "saleprice        2051.0  1.814697e+05  7.925866e+04      12789.0     129825.0   \n",
       "\n",
       "                         50%           75%          max  \n",
       "id                    1486.0  2.198000e+03       2930.0  \n",
       "pid              535453200.0  9.071801e+08  924152030.0  \n",
       "ms_subclass             50.0  7.000000e+01        190.0  \n",
       "lot_frontage            68.0  8.000000e+01        313.0  \n",
       "lot_area              9430.0  1.151350e+04     159000.0  \n",
       "overall_qual             6.0  7.000000e+00         10.0  \n",
       "overall_cond             5.0  6.000000e+00          9.0  \n",
       "year_built            1974.0  2.001000e+03       2010.0  \n",
       "year_remod/add        1993.0  2.004000e+03       2010.0  \n",
       "mas_vnr_area             0.0  1.610000e+02       1600.0  \n",
       "bsmtfin_sf_1           368.0  7.337500e+02       5644.0  \n",
       "bsmtfin_sf_2             0.0  0.000000e+00       1474.0  \n",
       "bsmt_unf_sf            474.5  8.110000e+02       2336.0  \n",
       "total_bsmt_sf          994.5  1.318750e+03       6110.0  \n",
       "1st_flr_sf            1093.0  1.405000e+03       5095.0  \n",
       "2nd_flr_sf               0.0  6.925000e+02       1862.0  \n",
       "low_qual_fin_sf          0.0  0.000000e+00       1064.0  \n",
       "gr_liv_area           1444.0  1.728500e+03       5642.0  \n",
       "bsmt_full_bath           0.0  1.000000e+00          3.0  \n",
       "bsmt_half_bath           0.0  0.000000e+00          2.0  \n",
       "full_bath                2.0  2.000000e+00          4.0  \n",
       "half_bath                0.0  1.000000e+00          2.0  \n",
       "bedroom_abvgr            3.0  3.000000e+00          8.0  \n",
       "kitchen_abvgr            1.0  1.000000e+00          3.0  \n",
       "totrms_abvgrd            6.0  7.000000e+00         15.0  \n",
       "fireplaces               1.0  1.000000e+00          4.0  \n",
       "garage_yr_blt         1980.0  2.002000e+03       2207.0  \n",
       "garage_cars              2.0  2.000000e+00          5.0  \n",
       "garage_area            480.0  5.760000e+02       1418.0  \n",
       "wood_deck_sf             0.0  1.680000e+02       1424.0  \n",
       "open_porch_sf           27.0  7.000000e+01        547.0  \n",
       "enclosed_porch           0.0  0.000000e+00        432.0  \n",
       "3ssn_porch               0.0  0.000000e+00        508.0  \n",
       "screen_porch             0.0  0.000000e+00        490.0  \n",
       "pool_area                0.0  0.000000e+00        800.0  \n",
       "misc_val                 0.0  0.000000e+00      17000.0  \n",
       "mo_sold                  6.0  8.000000e+00         12.0  \n",
       "yr_sold               2008.0  2.009000e+03       2010.0  \n",
       "saleprice           162500.0  2.140000e+05     611657.0  "
      ]
     },
     "execution_count": 73,
     "metadata": {},
     "output_type": "execute_result"
    }
   ],
   "source": [
    "train.describe().T"
   ]
  },
  {
   "cell_type": "markdown",
   "metadata": {},
   "source": [
    ">For the columns that are numerically meaningful, I notice that most of them have a high standard deviation, which means the data are spread from the mean. Correspondingly, those columns also have outliers based on the min and max values."
   ]
  },
  {
   "cell_type": "markdown",
   "metadata": {},
   "source": [
    "### Handling `NaN` values."
   ]
  },
  {
   "cell_type": "markdown",
   "metadata": {},
   "source": [
    "When inspecting `NaN` values, I noticed that there is a garage type row that is missing all garage values except one. I isolated this row and dropped it from my training data.\n",
    ">  \n",
    "`\n",
    "garage_finish      114\n",
    "garage_cond        114\n",
    "garage_qual        114\n",
    "garage_yr_blt      114\n",
    "garage_type        113\n",
    "`"
   ]
  },
  {
   "cell_type": "code",
   "execution_count": 74,
   "metadata": {
    "scrolled": true
   },
   "outputs": [],
   "source": [
    "# Daniel helped me isolate the row with all garage columns null except one\n",
    "garage_df = train.loc[:, train.columns.str.contains('garage')]\n",
    "\n",
    "nulls = garage_df[garage_df['garage_finish'].isna()]\n",
    "nulls[~nulls['garage_type'].isna()]\n",
    "\n",
    "# Find index and use this to drop row:\n",
    "train.drop(index = 1712, inplace = True)"
   ]
  },
  {
   "cell_type": "markdown",
   "metadata": {},
   "source": [
    "Loop through `garage_df` created above to fill missing values with `None`."
   ]
  },
  {
   "cell_type": "code",
   "execution_count": 75,
   "metadata": {},
   "outputs": [],
   "source": [
    "# iterate through garage_df to fill missing values with 'None'\n",
    "\n",
    "for i in garage_df: \n",
    "    train[i].fillna('None', inplace=True)"
   ]
  },
  {
   "cell_type": "markdown",
   "metadata": {},
   "source": [
    "Check how many `Nan` values still remain."
   ]
  },
  {
   "cell_type": "code",
   "execution_count": 76,
   "metadata": {},
   "outputs": [
    {
     "data": {
      "text/plain": [
       "pool_qc           2041\n",
       "misc_feature      1985\n",
       "alley             1910\n",
       "fence             1651\n",
       "fireplace_qu       999\n",
       "lot_frontage       330\n",
       "bsmt_exposure       58\n",
       "bsmtfin_type_2      56\n",
       "bsmt_qual           55\n",
       "bsmtfin_type_1      55\n",
       "bsmt_cond           55\n",
       "mas_vnr_area        22\n",
       "mas_vnr_type        22\n",
       "bsmt_half_bath       2\n",
       "bsmt_full_bath       2\n",
       "dtype: int64"
      ]
     },
     "execution_count": 76,
     "metadata": {},
     "output_type": "execute_result"
    }
   ],
   "source": [
    "train.isnull().sum().sort_values(ascending=False).head(15)"
   ]
  },
  {
   "cell_type": "markdown",
   "metadata": {},
   "source": [
    "Knowing what each values means from the data dictionary, fill in missing values with `None` since the house does not have that feature. In the cases where missing values mean 0, replace them with 0."
   ]
  },
  {
   "cell_type": "code",
   "execution_count": 77,
   "metadata": {},
   "outputs": [],
   "source": [
    "# Fill in null values for columns with NaN with None\n",
    "\n",
    "fillna_cols = ['alley', 'pool_qc', 'misc_feature', 'fence', 'fireplace_qu', 'garage_qual',\n",
    "               'bsmt_qual', 'bsmt_cond', 'bsmt_exposure', 'bsmtfin_type_1', 'bsmtfin_type_2', 'mas_vnr_type']\n",
    "\n",
    "# Iterate through column list to fill missing values\n",
    "for i in fillna_cols:\n",
    "    train[i].fillna('None', inplace=True)\n",
    "\n",
    "# Fill in null values for columns with NaN cells that mean no\n",
    "fillna_cols_0 = ['fireplace_qu',\n",
    "'lot_frontage',\n",
    "'garage_cond',\n",
    "'bsmtfin_type_1',\n",
    "'bsmt_cond',\n",
    "'bsmt_qual',\n",
    "'mas_vnr_area',\n",
    "'bsmt_half_bath',\n",
    "'bsmt_full_bath',\n",
    "'bsmtfin_sf_2',\n",
    "'bsmt_unf_sf',\n",
    "'total_bsmt_sf',\n",
    "'bsmtfin_sf_1', \n",
    "'electrical']\n",
    "\n",
    "for i in fillna_cols_0:\n",
    "    train[i].fillna(0, inplace=True)"
   ]
  },
  {
   "cell_type": "markdown",
   "metadata": {},
   "source": [
    "#### Making dictionaries for categorical columns.\n",
    "- Identify ordinal columns.\n",
    "- Identify the columns that use the same ordinal categories and create a list with those columns along with dictionary for each unique ordinal category.\n",
    "- Iterate through the column lists created and use `.apply()` to apply the dictionary that and replaces ordinal category with numerical values."
   ]
  },
  {
   "cell_type": "code",
   "execution_count": 78,
   "metadata": {},
   "outputs": [],
   "source": [
    "# Create quality dictionary to assign to columns that use the same measure\n",
    "qual_dict = {\n",
    "    'Ex': 5,\n",
    "    'Gd': 4,\n",
    "    'TA': 3,\n",
    "    'Fa': 2,\n",
    "    'Po': 1,\n",
    "    'None': 0\n",
    "}\n",
    "\n",
    "# Create a loop that assigns the quality dictionary to the list of columns that use the \n",
    "# same method to rate quality \n",
    "same_dict_list = ['exter_qual', \n",
    "                  'exter_cond', \n",
    "                  'bsmt_qual', \n",
    "                  'bsmt_cond', \n",
    "                  'kitchen_qual', \n",
    "                  'heating_qc', \n",
    "                  'garage_qual', \n",
    "                  'garage_cond', \n",
    "                  'fireplace_qu']\n",
    "for i in same_dict_list:\n",
    "    train[i] = train[i].apply(qual_dict.get)\n",
    "\n",
    "    \n",
    "    \n",
    "    \n",
    "# Create unique fence dictionary\n",
    "fence_dict = {\n",
    "    'GdPrv': 4,\n",
    "    'MnPrv': 3,\n",
    "    'GdWo': 2,\n",
    "    'MnWw': 1\n",
    "}\n",
    "train['fence'].replace(fence_dict, inplace = True)\n",
    "\n",
    "\n",
    "\n",
    "# Create unique basement col dictionary\n",
    "bsmtfin_type_dict = {\n",
    "    'GLQ': 6,\n",
    "    'ALQ': 5, \n",
    "    'BLQ': 4,\n",
    "    'Rec': 3, \n",
    "    'LwQ': 2, \n",
    "    'Unf': 1,\n",
    "    'None': 0\n",
    "    }\n",
    "bsmt_list = ['bsmtfin_type_2', 'bsmtfin_type_1']\n",
    "# Create a loop that assigns the quality dictionary to the list of columns that use the \n",
    "# same method to rate quality \n",
    "for i in bsmt_list:\n",
    "    train[i] = train[i].apply(bsmtfin_type_dict.get)\n",
    "\n",
    "    \n",
    "    \n",
    "    \n",
    "# Create unique pool dictionary\n",
    "pool_qual_dict = {'Ex': 4, 'Gd': 3, 'TA': 2, 'Fa': 1, 'None': 0}\n",
    "train['pool_qc'].replace(pool_qual_dict, inplace = True)\n",
    "\n",
    "\n",
    "\n",
    "# Create unique basement exposure dictionary\n",
    "bsmt_exposure_dict = {\n",
    "    'Gd': 3,\n",
    "    'Av': 2,\n",
    "    'Mn': 1,\n",
    "    'No': 0\n",
    "}\n",
    "train['bsmt_exposure'].replace(bsmt_exposure_dict, inplace = True)"
   ]
  },
  {
   "cell_type": "markdown",
   "metadata": {},
   "source": [
    "Check that there are now no missing values."
   ]
  },
  {
   "cell_type": "code",
   "execution_count": 79,
   "metadata": {
    "scrolled": true
   },
   "outputs": [
    {
     "data": {
      "text/plain": [
       "0"
      ]
     },
     "execution_count": 79,
     "metadata": {},
     "output_type": "execute_result"
    }
   ],
   "source": [
    "train.isnull().sum().sort_values(ascending = False).head(15)\n",
    "train.isnull().sum().sum()"
   ]
  },
  {
   "cell_type": "markdown",
   "metadata": {},
   "source": [
    "Check that they are now numerical columns using `.describe().columns`."
   ]
  },
  {
   "cell_type": "code",
   "execution_count": 80,
   "metadata": {},
   "outputs": [
    {
     "data": {
      "text/plain": [
       "Index(['id', 'pid', 'ms_subclass', 'lot_frontage', 'lot_area', 'overall_qual',\n",
       "       'overall_cond', 'year_built', 'year_remod/add', 'mas_vnr_area',\n",
       "       'exter_qual', 'exter_cond', 'bsmt_qual', 'bsmt_cond', 'bsmtfin_type_1',\n",
       "       'bsmtfin_sf_1', 'bsmtfin_type_2', 'bsmtfin_sf_2', 'bsmt_unf_sf',\n",
       "       'total_bsmt_sf', 'heating_qc', '1st_flr_sf', '2nd_flr_sf',\n",
       "       'low_qual_fin_sf', 'gr_liv_area', 'bsmt_full_bath', 'bsmt_half_bath',\n",
       "       'full_bath', 'half_bath', 'bedroom_abvgr', 'kitchen_abvgr',\n",
       "       'kitchen_qual', 'totrms_abvgrd', 'fireplaces', 'fireplace_qu',\n",
       "       'garage_cars', 'garage_area', 'garage_qual', 'garage_cond',\n",
       "       'wood_deck_sf', 'open_porch_sf', 'enclosed_porch', '3ssn_porch',\n",
       "       'screen_porch', 'pool_area', 'pool_qc', 'misc_val', 'mo_sold',\n",
       "       'yr_sold', 'saleprice'],\n",
       "      dtype='object')"
      ]
     },
     "execution_count": 80,
     "metadata": {},
     "output_type": "execute_result"
    }
   ],
   "source": [
    "train.describe().columns"
   ]
  },
  {
   "cell_type": "markdown",
   "metadata": {},
   "source": [
    "Filter out `gr_liv_area` values that are greater than 40,000 sq. ft.\n",
    "- Create a mask and overwrite the `gr_liv_area` column.\n",
    "- Check distribution without outliers\n",
    "- Once these values are removed and, by default, replaced with `NaN`, use `.fillna()` method to replace those missing values with the mean of the `gr_liv_area` without outliers instead.\n",
    "- Fill in with mean because it should now be more representative of the data in column."
   ]
  },
  {
   "cell_type": "code",
   "execution_count": 81,
   "metadata": {
    "scrolled": true
   },
   "outputs": [
    {
     "data": {
      "image/png": "[encoded data removed]",
      "text/plain": [
       "<Figure size 432x288 with 1 Axes>"
      ]
     },
     "metadata": {
      "image/png": {
       "height": 276,
       "width": 349
      },
      "needs_background": "light"
     },
     "output_type": "display_data"
    },
    {
     "data": {
      "image/png": "[encoded data removed]",
      "text/plain": [
       "<Figure size 432x288 with 1 Axes>"
      ]
     },
     "metadata": {
      "image/png": {
       "height": 276,
       "width": 352
      },
      "needs_background": "light"
     },
     "output_type": "display_data"
    }
   ],
   "source": [
    "# Analyze original training data distribution of 'gr_liv_area'\n",
    "sns.boxplot(train['gr_liv_area'])\n",
    "plt.title('Living Area Boxplot (Including > 40,000 sq ft)')\n",
    "plt.xlabel('Living Area in Sq. Ft.')\n",
    "plt.show()\n",
    "\n",
    "\n",
    "# Remove gr_liv_areas that are greater than 40_000 sq ft\n",
    "train['gr_liv_area'] = train[train['gr_liv_area'] < 40_000]\n",
    "\n",
    "# Find the mean of the col without the two outliers\n",
    "liv_area_mean = train['gr_liv_area'].mean()\n",
    "# Fill in two missing values corresponding with dropping outliers \n",
    "train['gr_liv_area'].fillna(liv_area_mean, inplace=True)\n",
    "\n",
    "# Analyze distribution of 'gr_liv_area' now that you've removed large outliers\n",
    "sns.boxplot(train['gr_liv_area'])\n",
    "plt.title('Living Area Boxplot (Excluding > 40,000 sq ft)')\n",
    "plt.xlabel('Living Area in Sq. Ft.')\n",
    "plt.show()\n"
   ]
  },
  {
   "cell_type": "markdown",
   "metadata": {},
   "source": [
    "### Feature Engineering"
   ]
  },
  {
   "cell_type": "markdown",
   "metadata": {},
   "source": [
    "Since `pool_qc` has 2041 missing values that represent that a house has no pool, it makes sense to create `has_pool` dummy column where 1 indicates that a house has a pool and 0 indicates that it does not have a pool."
   ]
  },
  {
   "cell_type": "code",
   "execution_count": 82,
   "metadata": {},
   "outputs": [
    {
     "data": {
      "text/plain": [
       "0    2041\n",
       "1       9\n",
       "Name: has_pool, dtype: int64"
      ]
     },
     "execution_count": 82,
     "metadata": {},
     "output_type": "execute_result"
    }
   ],
   "source": [
    "# Create new column \n",
    "# Replace old dictionary values with either 1 or 0\n",
    "train['has_pool'] = train['pool_qc'].replace({3:1, 1:1, 2:1, 4:1, 0:0})\n",
    "# Check that it worked \n",
    "train['has_pool'].value_counts()"
   ]
  },
  {
   "cell_type": "markdown",
   "metadata": {},
   "source": [
    "Since location factors greatly into the sale price of a home, dummy-fying the categorical `neighborhood` column is a rational approach.\n",
    "\n",
    "- Define a function `format_neighborhood(neighborhood):` that groups neighborhoods into 'other' category if the neighborhood has less than 10 observations. This step is necessart so that there is no inconsistency with the training data and the testing data when `test_train_split()` is applied and a neighborhood only appears once.\n",
    "- Once neighborhoods are grouped, use `pd.get_dummies` on `neighborhood` column.\n",
    "- Drop `'neighborhood_NAmes'` to use as reference column because it has the highest value count.\n"
   ]
  },
  {
   "cell_type": "code",
   "execution_count": 83,
   "metadata": {},
   "outputs": [],
   "source": [
    "# Check which neighborhoods have less than 10 observations\n",
    "train['neighborhood'].value_counts()\n",
    "\n",
    "# groups neighborhoods into 'other' category if the neighborhood has less than 10 observations\n",
    "def format_neighborhood(neighborhood):\n",
    "    if neighborhood == 'NPkVill' or neighborhood == 'Veenker' or neighborhood == 'Blueste' or neighborhood == 'Greens' or neighborhood ==  'GrnHill' or neighborhood == 'Landmrk':\n",
    "        return 'other'\n",
    "    else:\n",
    "        return neighborhood\n",
    "\n",
    "# apply function\n",
    "train['neighborhood'] = train['neighborhood'].apply(format_neighborhood)\n",
    "\n",
    "# dummy neighborhood column\n",
    "train = pd.get_dummies(train, columns=['neighborhood'])\n",
    "\n",
    "# drop reference dummy column\n",
    "train.drop(columns='neighborhood_NAmes', inplace=True)"
   ]
  },
  {
   "cell_type": "markdown",
   "metadata": {},
   "source": [
    "Since there are now too many neighborhood columns to add manually, find all the columns that have 'neighborhood' in them by iterating through columns. Add these columns to a list `neighborhood_cols` that will later be appended to the features."
   ]
  },
  {
   "cell_type": "code",
   "execution_count": 84,
   "metadata": {},
   "outputs": [],
   "source": [
    "neighborhood_cols = [col for col in train.columns if 'neighborhood' in col]"
   ]
  },
  {
   "cell_type": "markdown",
   "metadata": {},
   "source": [
    "Since the number of bedrooms and bathrooms in a house should ideally be proportional, create a `bed_bath_ratio` interaction column that calculates the ratio of bedrooms to bathrooms for a house."
   ]
  },
  {
   "cell_type": "code",
   "execution_count": 85,
   "metadata": {},
   "outputs": [],
   "source": [
    "# Create new interaction column\n",
    "train['bed_bath_ratio'] = train['bedroom_abvgr']/train['full_bath']\n",
    "\n",
    "# Fill missing values with 0 (divided ==> 0/0)\n",
    "train['bed_bath_ratio'].fillna(0, inplace=True)\n",
    "\n",
    "# Fill inf values with 0 (divided ==> number/0)\n",
    "train['bed_bath_ratio'].replace(np.inf, 0, inplace=True)"
   ]
  },
  {
   "cell_type": "markdown",
   "metadata": {},
   "source": [
    "Based on the correlation between sale price and overall, overall condition had the strongest correlation with saleprice. Create and interaction column that multiplies the two columns."
   ]
  },
  {
   "cell_type": "code",
   "execution_count": 86,
   "metadata": {},
   "outputs": [],
   "source": [
    "# Create new interaction column\n",
    "train['overall_cond_bed_bath'] = train['overall_cond'] * train['bed_bath_ratio']"
   ]
  },
  {
   "cell_type": "markdown",
   "metadata": {},
   "source": [
    "Garage quality and the number of cars that fit in a garage are two features that are relate, so create an interaction column that factors in the affect of both features together."
   ]
  },
  {
   "cell_type": "code",
   "execution_count": 87,
   "metadata": {},
   "outputs": [],
   "source": [
    "train['garage_qual_cars'] = train['garage_qual'] * train['garage_cars']"
   ]
  },
  {
   "cell_type": "markdown",
   "metadata": {},
   "source": [
    "Double check that there are no `NaN` values."
   ]
  },
  {
   "cell_type": "code",
   "execution_count": 88,
   "metadata": {},
   "outputs": [
    {
     "data": {
      "text/plain": [
       "garage_qual_cars         0\n",
       "mas_vnr_area             0\n",
       "exter_cond               0\n",
       "foundation               0\n",
       "bsmt_qual                0\n",
       "bsmt_cond                0\n",
       "bsmt_exposure            0\n",
       "bsmtfin_type_1           0\n",
       "bsmtfin_sf_1             0\n",
       "bsmtfin_type_2           0\n",
       "bsmtfin_sf_2             0\n",
       "bsmt_unf_sf              0\n",
       "total_bsmt_sf            0\n",
       "heating                  0\n",
       "heating_qc               0\n",
       "central_air              0\n",
       "electrical               0\n",
       "1st_flr_sf               0\n",
       "2nd_flr_sf               0\n",
       "low_qual_fin_sf          0\n",
       "gr_liv_area              0\n",
       "bsmt_full_bath           0\n",
       "bsmt_half_bath           0\n",
       "full_bath                0\n",
       "half_bath                0\n",
       "exter_qual               0\n",
       "mas_vnr_type             0\n",
       "overall_cond_bed_bath    0\n",
       "exterior_2nd             0\n",
       "pid                      0\n",
       "dtype: int64"
      ]
     },
     "execution_count": 88,
     "metadata": {},
     "output_type": "execute_result"
    }
   ],
   "source": [
    "train.isnull().sum().sort_values(ascending = False).head(30)"
   ]
  },
  {
   "cell_type": "markdown",
   "metadata": {},
   "source": [
    "### Pickle"
   ]
  },
  {
   "cell_type": "code",
   "execution_count": 89,
   "metadata": {},
   "outputs": [],
   "source": [
    "pickle.dump(train, open(\"../pickles/train_clean.pkl\", \"wb\"))"
   ]
  },
  {
   "cell_type": "markdown",
   "metadata": {},
   "source": [
    "Save clean train data."
   ]
  },
  {
   "cell_type": "code",
   "execution_count": 68,
   "metadata": {},
   "outputs": [],
   "source": [
    "train.to_csv('../datasets/clean_train.csv')"
   ]
  }
 ],
 "metadata": {
  "kernelspec": {
   "display_name": "Python 3",
   "language": "python",
   "name": "python3"
  },
  "language_info": {
   "codemirror_mode": {
    "name": "ipython",
    "version": 3
   },
   "file_extension": ".py",
   "mimetype": "text/x-python",
   "name": "python",
   "nbconvert_exporter": "python",
   "pygments_lexer": "ipython3",
   "version": "3.7.4"
  }
 },
 "nbformat": 4,
 "nbformat_minor": 2
}
