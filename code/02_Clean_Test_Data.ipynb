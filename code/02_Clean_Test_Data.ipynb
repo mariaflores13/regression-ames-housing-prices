{
 "cells": [
  {
   "cell_type": "markdown",
   "metadata": {},
   "source": [
    "### Clean Test Data"
   ]
  },
  {
   "cell_type": "markdown",
   "metadata": {},
   "source": [
    "#### Import libraries and import `clean_data(filepath)` function that cleans the test data in the same way as the training data."
   ]
  },
  {
   "cell_type": "code",
   "execution_count": 9,
   "metadata": {},
   "outputs": [],
   "source": [
    "# Import libraries here.\n",
    "import numpy as np\n",
    "import pandas as pd\n",
    "import matplotlib.pyplot as plt\n",
    "import seaborn as sns\n",
    "import pickle\n",
    "\n",
    "%run ./01_clean.py"
   ]
  },
  {
   "cell_type": "code",
   "execution_count": 10,
   "metadata": {},
   "outputs": [],
   "source": [
    "filepath = '../datasets/test.csv'"
   ]
  },
  {
   "cell_type": "code",
   "execution_count": 11,
   "metadata": {},
   "outputs": [
    {
     "data": {
      "text/plain": [
       "'../datasets/test.csv'"
      ]
     },
     "execution_count": 11,
     "metadata": {},
     "output_type": "execute_result"
    }
   ],
   "source": [
    "filepath"
   ]
  },
  {
   "cell_type": "markdown",
   "metadata": {},
   "source": [
    "#### Use imported function to clean testing data."
   ]
  },
  {
   "cell_type": "code",
   "execution_count": 12,
   "metadata": {},
   "outputs": [],
   "source": [
    "test = clean_data(filepath)"
   ]
  },
  {
   "cell_type": "code",
   "execution_count": 13,
   "metadata": {},
   "outputs": [
    {
     "data": {
      "text/html": [
       "<div>\n",
       "<style scoped>\n",
       "    .dataframe tbody tr th:only-of-type {\n",
       "        vertical-align: middle;\n",
       "    }\n",
       "\n",
       "    .dataframe tbody tr th {\n",
       "        vertical-align: top;\n",
       "    }\n",
       "\n",
       "    .dataframe thead th {\n",
       "        text-align: right;\n",
       "    }\n",
       "</style>\n",
       "<table border=\"1\" class=\"dataframe\">\n",
       "  <thead>\n",
       "    <tr style=\"text-align: right;\">\n",
       "      <th></th>\n",
       "      <th>pid</th>\n",
       "      <th>ms_subclass</th>\n",
       "      <th>ms_zoning</th>\n",
       "      <th>lot_frontage</th>\n",
       "      <th>lot_area</th>\n",
       "      <th>street</th>\n",
       "      <th>alley</th>\n",
       "      <th>lot_shape</th>\n",
       "      <th>land_contour</th>\n",
       "      <th>utilities</th>\n",
       "      <th>...</th>\n",
       "      <th>neighborhood_SWISU</th>\n",
       "      <th>neighborhood_Sawyer</th>\n",
       "      <th>neighborhood_SawyerW</th>\n",
       "      <th>neighborhood_Somerst</th>\n",
       "      <th>neighborhood_StoneBr</th>\n",
       "      <th>neighborhood_Timber</th>\n",
       "      <th>neighborhood_other</th>\n",
       "      <th>bed_bath_ratio</th>\n",
       "      <th>garage_qual_cars</th>\n",
       "      <th>overall_cond_bed_bath</th>\n",
       "    </tr>\n",
       "    <tr>\n",
       "      <th>Id</th>\n",
       "      <th></th>\n",
       "      <th></th>\n",
       "      <th></th>\n",
       "      <th></th>\n",
       "      <th></th>\n",
       "      <th></th>\n",
       "      <th></th>\n",
       "      <th></th>\n",
       "      <th></th>\n",
       "      <th></th>\n",
       "      <th></th>\n",
       "      <th></th>\n",
       "      <th></th>\n",
       "      <th></th>\n",
       "      <th></th>\n",
       "      <th></th>\n",
       "      <th></th>\n",
       "      <th></th>\n",
       "      <th></th>\n",
       "      <th></th>\n",
       "      <th></th>\n",
       "    </tr>\n",
       "  </thead>\n",
       "  <tbody>\n",
       "    <tr>\n",
       "      <td>2658</td>\n",
       "      <td>902301120</td>\n",
       "      <td>190</td>\n",
       "      <td>RM</td>\n",
       "      <td>69.0</td>\n",
       "      <td>9142</td>\n",
       "      <td>Pave</td>\n",
       "      <td>Grvl</td>\n",
       "      <td>Reg</td>\n",
       "      <td>Lvl</td>\n",
       "      <td>AllPub</td>\n",
       "      <td>...</td>\n",
       "      <td>0</td>\n",
       "      <td>0</td>\n",
       "      <td>0</td>\n",
       "      <td>0</td>\n",
       "      <td>0</td>\n",
       "      <td>0</td>\n",
       "      <td>0</td>\n",
       "      <td>2.0</td>\n",
       "      <td>1</td>\n",
       "      <td>16.0</td>\n",
       "    </tr>\n",
       "    <tr>\n",
       "      <td>2718</td>\n",
       "      <td>905108090</td>\n",
       "      <td>90</td>\n",
       "      <td>RL</td>\n",
       "      <td>0.0</td>\n",
       "      <td>9662</td>\n",
       "      <td>Pave</td>\n",
       "      <td>None</td>\n",
       "      <td>IR1</td>\n",
       "      <td>Lvl</td>\n",
       "      <td>AllPub</td>\n",
       "      <td>...</td>\n",
       "      <td>0</td>\n",
       "      <td>1</td>\n",
       "      <td>0</td>\n",
       "      <td>0</td>\n",
       "      <td>0</td>\n",
       "      <td>0</td>\n",
       "      <td>0</td>\n",
       "      <td>3.0</td>\n",
       "      <td>6</td>\n",
       "      <td>12.0</td>\n",
       "    </tr>\n",
       "    <tr>\n",
       "      <td>2414</td>\n",
       "      <td>528218130</td>\n",
       "      <td>60</td>\n",
       "      <td>RL</td>\n",
       "      <td>58.0</td>\n",
       "      <td>17104</td>\n",
       "      <td>Pave</td>\n",
       "      <td>None</td>\n",
       "      <td>IR1</td>\n",
       "      <td>Lvl</td>\n",
       "      <td>AllPub</td>\n",
       "      <td>...</td>\n",
       "      <td>0</td>\n",
       "      <td>0</td>\n",
       "      <td>0</td>\n",
       "      <td>0</td>\n",
       "      <td>0</td>\n",
       "      <td>0</td>\n",
       "      <td>0</td>\n",
       "      <td>1.5</td>\n",
       "      <td>6</td>\n",
       "      <td>7.5</td>\n",
       "    </tr>\n",
       "    <tr>\n",
       "      <td>1989</td>\n",
       "      <td>902207150</td>\n",
       "      <td>30</td>\n",
       "      <td>RM</td>\n",
       "      <td>60.0</td>\n",
       "      <td>8520</td>\n",
       "      <td>Pave</td>\n",
       "      <td>None</td>\n",
       "      <td>Reg</td>\n",
       "      <td>Lvl</td>\n",
       "      <td>AllPub</td>\n",
       "      <td>...</td>\n",
       "      <td>0</td>\n",
       "      <td>0</td>\n",
       "      <td>0</td>\n",
       "      <td>0</td>\n",
       "      <td>0</td>\n",
       "      <td>0</td>\n",
       "      <td>0</td>\n",
       "      <td>2.0</td>\n",
       "      <td>4</td>\n",
       "      <td>12.0</td>\n",
       "    </tr>\n",
       "    <tr>\n",
       "      <td>625</td>\n",
       "      <td>535105100</td>\n",
       "      <td>20</td>\n",
       "      <td>RL</td>\n",
       "      <td>0.0</td>\n",
       "      <td>9500</td>\n",
       "      <td>Pave</td>\n",
       "      <td>None</td>\n",
       "      <td>IR1</td>\n",
       "      <td>Lvl</td>\n",
       "      <td>AllPub</td>\n",
       "      <td>...</td>\n",
       "      <td>0</td>\n",
       "      <td>0</td>\n",
       "      <td>0</td>\n",
       "      <td>0</td>\n",
       "      <td>0</td>\n",
       "      <td>0</td>\n",
       "      <td>0</td>\n",
       "      <td>3.0</td>\n",
       "      <td>6</td>\n",
       "      <td>15.0</td>\n",
       "    </tr>\n",
       "  </tbody>\n",
       "</table>\n",
       "<p>5 rows × 104 columns</p>\n",
       "</div>"
      ],
      "text/plain": [
       "            pid  ms_subclass ms_zoning  lot_frontage  lot_area street alley  \\\n",
       "Id                                                                            \n",
       "2658  902301120          190        RM          69.0      9142   Pave  Grvl   \n",
       "2718  905108090           90        RL           0.0      9662   Pave  None   \n",
       "2414  528218130           60        RL          58.0     17104   Pave  None   \n",
       "1989  902207150           30        RM          60.0      8520   Pave  None   \n",
       "625   535105100           20        RL           0.0      9500   Pave  None   \n",
       "\n",
       "     lot_shape land_contour utilities  ... neighborhood_SWISU  \\\n",
       "Id                                     ...                      \n",
       "2658       Reg          Lvl    AllPub  ...                  0   \n",
       "2718       IR1          Lvl    AllPub  ...                  0   \n",
       "2414       IR1          Lvl    AllPub  ...                  0   \n",
       "1989       Reg          Lvl    AllPub  ...                  0   \n",
       "625        IR1          Lvl    AllPub  ...                  0   \n",
       "\n",
       "     neighborhood_Sawyer neighborhood_SawyerW neighborhood_Somerst  \\\n",
       "Id                                                                   \n",
       "2658                   0                    0                    0   \n",
       "2718                   1                    0                    0   \n",
       "2414                   0                    0                    0   \n",
       "1989                   0                    0                    0   \n",
       "625                    0                    0                    0   \n",
       "\n",
       "     neighborhood_StoneBr neighborhood_Timber  neighborhood_other  \\\n",
       "Id                                                                  \n",
       "2658                    0                   0                   0   \n",
       "2718                    0                   0                   0   \n",
       "2414                    0                   0                   0   \n",
       "1989                    0                   0                   0   \n",
       "625                     0                   0                   0   \n",
       "\n",
       "      bed_bath_ratio  garage_qual_cars  overall_cond_bed_bath  \n",
       "Id                                                             \n",
       "2658             2.0                 1                   16.0  \n",
       "2718             3.0                 6                   12.0  \n",
       "2414             1.5                 6                    7.5  \n",
       "1989             2.0                 4                   12.0  \n",
       "625              3.0                 6                   15.0  \n",
       "\n",
       "[5 rows x 104 columns]"
      ]
     },
     "execution_count": 13,
     "metadata": {},
     "output_type": "execute_result"
    }
   ],
   "source": [
    "test.head()"
   ]
  },
  {
   "cell_type": "markdown",
   "metadata": {},
   "source": [
    "Make sure that function imported successfully and there are no `NaN` values in the testing data."
   ]
  },
  {
   "cell_type": "code",
   "execution_count": 14,
   "metadata": {},
   "outputs": [
    {
     "data": {
      "text/plain": [
       "overall_cond_bed_bath    0\n",
       "garage_qual_cars         0\n",
       "exter_cond               0\n",
       "foundation               0\n",
       "bsmt_qual                0\n",
       "bsmt_cond                0\n",
       "bsmt_exposure            0\n",
       "bsmtfin_type_1           0\n",
       "bsmtfin_sf_1             0\n",
       "bsmtfin_type_2           0\n",
       "bsmtfin_sf_2             0\n",
       "bsmt_unf_sf              0\n",
       "total_bsmt_sf            0\n",
       "heating                  0\n",
       "heating_qc               0\n",
       "dtype: int64"
      ]
     },
     "execution_count": 14,
     "metadata": {},
     "output_type": "execute_result"
    }
   ],
   "source": [
    "test.isnull().sum().sum()\n",
    "\n",
    "test.isnull().sum().sort_values(ascending = False).head(15)"
   ]
  },
  {
   "cell_type": "markdown",
   "metadata": {},
   "source": [
    "#### Pickle"
   ]
  },
  {
   "cell_type": "code",
   "execution_count": 15,
   "metadata": {},
   "outputs": [],
   "source": [
    "pickle.dump(test, open(\"../pickles/test_clean.pkl\", \"wb\"))"
   ]
  },
  {
   "cell_type": "markdown",
   "metadata": {},
   "source": [
    "Save clean test data."
   ]
  },
  {
   "cell_type": "code",
   "execution_count": 16,
   "metadata": {},
   "outputs": [],
   "source": [
    "test.to_csv('../datasets/clean_test.csv')"
   ]
  }
 ],
 "metadata": {
  "kernelspec": {
   "display_name": "Python 3",
   "language": "python",
   "name": "python3"
  },
  "language_info": {
   "codemirror_mode": {
    "name": "ipython",
    "version": 3
   },
   "file_extension": ".py",
   "mimetype": "text/x-python",
   "name": "python",
   "nbconvert_exporter": "python",
   "pygments_lexer": "ipython3",
   "version": "3.7.4"
  }
 },
 "nbformat": 4,
 "nbformat_minor": 2
}
